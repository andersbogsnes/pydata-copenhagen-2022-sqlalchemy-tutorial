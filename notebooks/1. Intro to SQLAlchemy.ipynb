{
 "cells": [
  {
   "cell_type": "markdown",
   "id": "d575f600-afed-4b00-bdc3-ecb5f61a36ca",
   "metadata": {
    "pycharm": {
     "name": "#%% md\n"
    },
    "slideshow": {
     "slide_type": "slide"
    },
    "tags": []
   },
   "source": [
    "# Writing SQL the Python way with SQLAlchemy\n",
    "\n",
    "![SQLAlchemy Logo](images/sqlalchemy-logo.png)"
   ]
  },
  {
   "cell_type": "markdown",
   "id": "9c561ae2-7109-4cf7-8885-ad685b6b67a6",
   "metadata": {
    "pycharm": {
     "name": "#%% md\n"
    },
    "slideshow": {
     "slide_type": "subslide"
    },
    "tags": []
   },
   "source": [
    "SQLAlchemy is the default toolkit for writing SQL in Python - it supports a powerful Core-level layer, mapping Core SQL constructs into Python code. This Core-level in turn supports a higher-level ORM (Object Relational Mapper), which abstracts away the SQL, turning SQL rows into Python objects. \n",
    "\n",
    "The power in SQLAlchemy is in it's philosophy of not trying to hide away the database from the programmer, inevitably resulting in a leaky abstraction, but to allow the programmer to switch between Core and ORM at will, getting the best of both worlds.\n",
    "\n",
    "\n",
    "![SQLAlchemy layers](images/sqlalchemy_layers.jpg)"
   ]
  },
  {
   "cell_type": "markdown",
   "id": "67f64032-ea9b-48a2-817f-5820b4c68d88",
   "metadata": {
    "pycharm": {
     "name": "#%% md\n"
    },
    "slideshow": {
     "slide_type": "subslide"
    },
    "tags": []
   },
   "source": [
    "In this course, we will start by writing Core statements, followed by a look at ORM. We'll cover the components of each layer along the way"
   ]
  },
  {
   "cell_type": "markdown",
   "id": "4d99790b-ba0f-4de3-bd41-fbd1c5e64beb",
   "metadata": {
    "pycharm": {
     "name": "#%% md\n"
    },
    "slideshow": {
     "slide_type": "slide"
    },
    "tags": []
   },
   "source": [
    "# What's the DBAPI? - A bit of history\n",
    "\n",
    "[PEP-249](https://peps.python.org/pep-0249/) was introduced in 2001 to standardize the API of the various database provider libraries. This meant that all the database libraries now used the same commands to connect, execute and return rows from the database, at a low level. "
   ]
  },
  {
   "cell_type": "code",
   "execution_count": null,
   "id": "31a54815",
   "metadata": {
    "collapsed": false,
    "jupyter": {
     "outputs_hidden": false
    },
    "pycharm": {
     "name": "#%%\n"
    }
   },
   "outputs": [],
   "source": [
    "# SQlite is built-into Python\n",
    "import sqlite3"
   ]
  },
  {
   "cell_type": "markdown",
   "id": "58ac427b",
   "metadata": {
    "pycharm": {
     "name": "#%% md\n"
    }
   },
   "source": [
    "SQLite is a single-file embedded database that's also included in Python - so we can run a database without having to worry about installing anything"
   ]
  },
  {
   "cell_type": "code",
   "execution_count": null,
   "id": "4fcadf95",
   "metadata": {
    "collapsed": false,
    "jupyter": {
     "outputs_hidden": false
    },
    "pycharm": {
     "name": "#%%\n"
    }
   },
   "outputs": [],
   "source": [
    "db_file = \"./local.db\""
   ]
  },
  {
   "cell_type": "markdown",
   "id": "5393d125-eeaf-4cd1-9616-7595a2f74a63",
   "metadata": {
    "jupyter": {
     "outputs_hidden": false
    },
    "pycharm": {
     "name": "#%%\n"
    }
   },
   "source": [
    "Before we can store any data, we need to create a table"
   ]
  },
  {
   "cell_type": "code",
   "execution_count": null,
   "id": "0e64ad57",
   "metadata": {
    "collapsed": false,
    "jupyter": {
     "outputs_hidden": false
    },
    "pycharm": {
     "name": "#%%\n"
    }
   },
   "outputs": [],
   "source": [
    "# SQLite is a single-file database, let's store it in a `local.db` file\n",
    "with sqlite3.connect(db_file) as conn:\n",
    "    conn.execute(\"\"\"CREATE TABLE IF NOT EXISTS test (\n",
    "                 col1 integer, \n",
    "                 col2 string\n",
    "                )\n",
    "                \"\"\")"
   ]
  },
  {
   "cell_type": "code",
   "execution_count": null,
   "id": "6bab1139",
   "metadata": {
    "collapsed": false,
    "jupyter": {
     "outputs_hidden": false
    },
    "pycharm": {
     "name": "#%%\n"
    }
   },
   "outputs": [],
   "source": [
    "with sqlite3.connect(db_file) as conn:\n",
    "    # We can parametrize the query to avoid SQL injection attacks\n",
    "    conn.execute(\"\"\"INSERT INTO test VALUES (:val_1, :val_2)\"\"\", {\"val_1\": 1, \"val_2\": \"text\"})\n",
    "    result = conn.execute(\"SELECT * FROM test\").fetchall()\n",
    "result"
   ]
  },
  {
   "cell_type": "code",
   "execution_count": null,
   "id": "83f9cb30",
   "metadata": {
    "collapsed": false,
    "jupyter": {
     "outputs_hidden": false
    },
    "pycharm": {
     "name": "#%%\n"
    }
   },
   "outputs": [],
   "source": [
    "type(result[0])"
   ]
  },
  {
   "cell_type": "markdown",
   "id": "f23dc933",
   "metadata": {
    "pycharm": {
     "name": "#%% md\n"
    }
   },
   "source": [
    "This code would look very similar in `cx_oracle` or `pyodbc`, thanks to the standardization introduced by the DB-API spec. \n",
    "\n",
    "There are a few issues with this code:\n",
    "- The queries are raw strings\n",
    "- Hardcoded to a specific database\n",
    "- Not using any of the Power of Python™"
   ]
  },
  {
   "cell_type": "markdown",
   "id": "ac1fdfa4",
   "metadata": {
    "pycharm": {
     "name": "#%% md\n"
    }
   },
   "source": [
    "# Moving to SQLAlchemy\n",
    "\n",
    "SQLAlchemy was created to address these issues and \"upgrade\" the experience of working with SQL from inside Python. \n",
    "\n",
    "First, let's review the Core SQLAlchemy objects we need in order to get started"
   ]
  },
  {
   "cell_type": "code",
   "execution_count": null,
   "id": "10c4e82c",
   "metadata": {
    "collapsed": false,
    "jupyter": {
     "outputs_hidden": false
    },
    "pycharm": {
     "name": "#%%\n"
    }
   },
   "outputs": [],
   "source": [
    "import sqlalchemy as sa"
   ]
  },
  {
   "cell_type": "markdown",
   "id": "936c7522",
   "metadata": {
    "pycharm": {
     "name": "#%% md\n"
    }
   },
   "source": [
    "# The MetaData\n",
    "\n",
    "MetaData is SQLAlchemy's register over all the defined tables - it allows SQLAlchemy to understand how Tables are connected, handle foreign keys and when issuing DDL (CREATE, DROP, ALTER etc).\n",
    "\n",
    "The metadata object should be a global object, and all Tables should use the same metadata object"
   ]
  },
  {
   "cell_type": "code",
   "execution_count": null,
   "id": "137b3582",
   "metadata": {
    "collapsed": false,
    "jupyter": {
     "outputs_hidden": false
    },
    "pycharm": {
     "name": "#%%\n"
    }
   },
   "outputs": [],
   "source": [
    "meta = sa.MetaData()"
   ]
  },
  {
   "cell_type": "markdown",
   "id": "cb299ab4",
   "metadata": {
    "pycharm": {
     "name": "#%% md\n"
    }
   },
   "source": [
    "# The Table\n",
    "\n",
    "To interact with a database, we need to represent the Table in Python code. \n",
    "\n",
    "This is what SQLAlchemy will use to generate correct SQL when selecting data"
   ]
  },
  {
   "cell_type": "code",
   "execution_count": null,
   "id": "b49f0b3f",
   "metadata": {
    "collapsed": false,
    "jupyter": {
     "outputs_hidden": false
    },
    "pycharm": {
     "name": "#%%\n"
    }
   },
   "outputs": [],
   "source": [
    "test_table = sa.Table(\"test\", \n",
    "                      meta, \n",
    "                      sa.Column(\"col1\", sa.Integer), \n",
    "                      sa.Column(\"col2\", sa.String))"
   ]
  },
  {
   "cell_type": "markdown",
   "id": "1694cabc",
   "metadata": {
    "pycharm": {
     "name": "#%% md\n"
    }
   },
   "source": [
    "The table doesn't know about the database, we're just declaring a Python object that SQLAlchemy can use later"
   ]
  },
  {
   "cell_type": "markdown",
   "id": "8a10decd",
   "metadata": {
    "pycharm": {
     "name": "#%% md\n"
    }
   },
   "source": [
    "# The Engine\n",
    "\n",
    "The Engine is what talks to the underlying DB-API library. To create an Engine, we need a properly formatted connection string, so the Engine knows what DB-API it needs to talk to.\n",
    "\n",
    "Creating an engine doesn't connect to the database, so it's merely doing some URL validation and preparing the correct dialect. This is also where we can set various connection options"
   ]
  },
  {
   "cell_type": "code",
   "execution_count": null,
   "id": "dca47074",
   "metadata": {
    "collapsed": false,
    "jupyter": {
     "outputs_hidden": false
    },
    "pycharm": {
     "name": "#%%\n"
    }
   },
   "outputs": [],
   "source": [
    "import sqlalchemy as sa\n",
    "\n",
    "# SQLAlchemy 2.0 is still in beta, but we can opt-in to the future behaviour\n",
    "engine = sa.create_engine(\"sqlite:///local.db\", future=True)"
   ]
  },
  {
   "cell_type": "markdown",
   "id": "8212d3ca",
   "metadata": {
    "pycharm": {
     "name": "#%% md\n"
    }
   },
   "source": [
    "# The SQL\n",
    "\n",
    "Now we're ready to write some SQL - SQLAlchemy style."
   ]
  },
  {
   "cell_type": "code",
   "execution_count": null,
   "id": "6acabc6f",
   "metadata": {
    "collapsed": false,
    "jupyter": {
     "outputs_hidden": false
    },
    "pycharm": {
     "name": "#%%\n"
    }
   },
   "outputs": [],
   "source": [
    "sql = sa.select(test_table)\n",
    "sql"
   ]
  },
  {
   "cell_type": "markdown",
   "id": "9267eb52",
   "metadata": {
    "pycharm": {
     "name": "#%% md\n"
    }
   },
   "source": [
    "We can print the SQL that will be emitted"
   ]
  },
  {
   "cell_type": "code",
   "execution_count": null,
   "id": "d4c5e726",
   "metadata": {
    "collapsed": false,
    "jupyter": {
     "outputs_hidden": false
    },
    "pycharm": {
     "name": "#%%\n"
    }
   },
   "outputs": [],
   "source": [
    "print(sql)"
   ]
  },
  {
   "cell_type": "markdown",
   "id": "5cde45a7",
   "metadata": {
    "pycharm": {
     "name": "#%% md\n"
    }
   },
   "source": [
    "SQLAlchemy overloads operators to generate SQL statements, for example the `==` operator"
   ]
  },
  {
   "cell_type": "code",
   "execution_count": null,
   "id": "e8207d28",
   "metadata": {
    "collapsed": false,
    "jupyter": {
     "outputs_hidden": false
    },
    "pycharm": {
     "name": "#%%\n"
    }
   },
   "outputs": [],
   "source": [
    "test_table.c.col1 == \"test\""
   ]
  },
  {
   "cell_type": "code",
   "execution_count": null,
   "id": "566e87ef",
   "metadata": {
    "collapsed": false,
    "jupyter": {
     "outputs_hidden": false
    },
    "pycharm": {
     "name": "#%%\n"
    }
   },
   "outputs": [],
   "source": [
    "print(test_table.c.col1 == \"test\")"
   ]
  },
  {
   "cell_type": "markdown",
   "id": "2b43d7a7",
   "metadata": {
    "pycharm": {
     "name": "#%% md\n"
    }
   },
   "source": [
    "That makes it simple to add a `where`clause"
   ]
  },
  {
   "cell_type": "code",
   "execution_count": null,
   "id": "084efe1e",
   "metadata": {
    "collapsed": false,
    "jupyter": {
     "outputs_hidden": false
    },
    "pycharm": {
     "name": "#%%\n"
    }
   },
   "outputs": [],
   "source": [
    "print(sql.where(test_table.c.col1 == \"test\"))"
   ]
  },
  {
   "cell_type": "markdown",
   "id": "c02cc999",
   "metadata": {
    "pycharm": {
     "name": "#%% md\n"
    }
   },
   "source": [
    "To run the SQL, we need to establish a connection - this is the first time we're actually doing anything outside our Python process"
   ]
  },
  {
   "cell_type": "code",
   "execution_count": null,
   "id": "5cce0df3",
   "metadata": {
    "collapsed": false,
    "jupyter": {
     "outputs_hidden": false
    },
    "pycharm": {
     "name": "#%%\n"
    }
   },
   "outputs": [],
   "source": [
    "with engine.connect() as conn:\n",
    "    result = conn.execute(sql).all()"
   ]
  },
  {
   "cell_type": "markdown",
   "id": "32979a76",
   "metadata": {
    "pycharm": {
     "name": "#%% md\n"
    }
   },
   "source": [
    "`result` looks the same"
   ]
  },
  {
   "cell_type": "code",
   "execution_count": null,
   "id": "e58e340e",
   "metadata": {
    "collapsed": false,
    "jupyter": {
     "outputs_hidden": false
    },
    "pycharm": {
     "name": "#%%\n"
    }
   },
   "outputs": [],
   "source": [
    "result"
   ]
  },
  {
   "cell_type": "markdown",
   "id": "3a45d17c",
   "metadata": {
    "pycharm": {
     "name": "#%% md\n"
    }
   },
   "source": [
    "But it's actually an \"upgraded\" version of what we had before"
   ]
  },
  {
   "cell_type": "code",
   "execution_count": null,
   "id": "97c09565",
   "metadata": {
    "collapsed": false,
    "jupyter": {
     "outputs_hidden": false
    },
    "pycharm": {
     "name": "#%%\n"
    }
   },
   "outputs": [],
   "source": [
    "type(result[0])"
   ]
  },
  {
   "cell_type": "code",
   "execution_count": null,
   "id": "1a10c7d0",
   "metadata": {
    "collapsed": false,
    "jupyter": {
     "outputs_hidden": false
    },
    "pycharm": {
     "name": "#%%\n"
    }
   },
   "outputs": [],
   "source": [
    "result[0].col1"
   ]
  },
  {
   "cell_type": "code",
   "execution_count": null,
   "id": "dcfed899",
   "metadata": {
    "collapsed": false,
    "jupyter": {
     "outputs_hidden": false
    },
    "pycharm": {
     "name": "#%%\n"
    }
   },
   "outputs": [],
   "source": [
    "dict(result[0])"
   ]
  },
  {
   "cell_type": "markdown",
   "id": "62fb6646",
   "metadata": {
    "pycharm": {
     "name": "#%% md\n"
    }
   },
   "source": [
    "Note that here we used `.all` to fetch all the results at once - the result of `.execute` won't produce anything until we ask it to. \n",
    "\n",
    "- `all` returns all the results in a list\n",
    "- `one` return a single result and raises an exception if there's not exactly one\n",
    "- `one_or_none` returns a single result or None and raises an exception if there's > 1 results\n",
    "- `first` grabs the first result\n",
    "- `partitions(size)` yields chunks of length `size`\n",
    "- `yield_per(num)` generally only used if the DBAPI driver supports streaming results - batches up results from the stream"
   ]
  },
  {
   "cell_type": "markdown",
   "id": "2c2a2d51-fa80-47c4-9149-43e5de67becf",
   "metadata": {
    "pycharm": {
     "name": "#%% md\n"
    },
    "tags": []
   },
   "source": [
    "# Some Behind-the-scenes\n",
    "\n",
    "SQLAlchemy did a few different things for us here out of the box. \n",
    "\n",
    "- It generated the correct SQL for our Database (SQLite in this case). \n",
    "- It wrapped the result of the query in a `Row` object, allowing us to write `.col1` or convert to a dictionary out-of-the-box. \n",
    "- It will convert the DB results to the types declared in the table\n",
    "- Behind the scenes, SQLAlchemy also creates a pool of connections, depending on the backend. Every time you run a query, you'll check out a connection from the pool instead of creating a new one every time."
   ]
  }
 ],
 "metadata": {
  "kernelspec": {
   "display_name": "Python 3 (ipykernel)",
   "language": "python",
   "name": "python3"
  },
  "language_info": {
   "codemirror_mode": {
    "name": "ipython",
    "version": 3
   },
   "file_extension": ".py",
   "mimetype": "text/x-python",
   "name": "python",
   "nbconvert_exporter": "python",
   "pygments_lexer": "ipython3",
   "version": "3.10.6"
  }
 },
 "nbformat": 4,
 "nbformat_minor": 5
}
